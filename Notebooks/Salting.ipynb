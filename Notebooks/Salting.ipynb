{
 "cells": [
  {
   "cell_type": "markdown",
   "metadata": {},
   "source": [
    "## Fixing data skew by salting\n",
    "Reference: https://www.youtube.com/watch?v=rZGsc5y8AQk"
   ]
  },
  {
   "cell_type": "markdown",
   "metadata": {},
   "source": [
    "Salting: Adding randomness to distribute uneven data evenly"
   ]
  },
  {
   "cell_type": "code",
   "execution_count": 66,
   "metadata": {},
   "outputs": [],
   "source": [
    "from pyspark.sql import SparkSession\n",
    "from pyspark.sql.functions import *\n",
    "from pyspark.sql.types import *\n",
    "# Initialize Spark Session\n",
    "spark = SparkSession.builder.appName(\"skew\").getOrCreate()\n",
    "sc = spark.sparkContext"
   ]
  },
  {
   "cell_type": "code",
   "execution_count": 67,
   "metadata": {},
   "outputs": [],
   "source": [
    "spark.conf.set(\"spark.sql.shuffle.partitions\", \"3\")\n",
    "spark.conf.get(\"spark.sql.shuffle.partitions\")\n",
    "spark.conf.set(\"spark.sql.adaptive.enabled\", \"false\")"
   ]
  },
  {
   "cell_type": "markdown",
   "metadata": {},
   "source": [
    "### Simulating skewed join"
   ]
  },
  {
   "cell_type": "code",
   "execution_count": 68,
   "metadata": {},
   "outputs": [
    {
     "name": "stdout",
     "output_type": "stream",
     "text": [
      "+-----+\n",
      "|value|\n",
      "+-----+\n",
      "|0    |\n",
      "|1    |\n",
      "|2    |\n",
      "|3    |\n",
      "|4    |\n",
      "+-----+\n",
      "only showing top 5 rows\n",
      "\n"
     ]
    },
    {
     "name": "stderr",
     "output_type": "stream",
     "text": [
      "                                                                                \r"
     ]
    }
   ],
   "source": [
    "uniform_df = spark.createDataFrame([i for i in range(1000000)], IntegerType())\n",
    "uniform_df.show(5, False)"
   ]
  },
  {
   "cell_type": "code",
   "execution_count": 69,
   "metadata": {},
   "outputs": [
    {
     "name": "stdout",
     "output_type": "stream",
     "text": [
      "+---------+------+\n",
      "|partition| count|\n",
      "+---------+------+\n",
      "|        0|124928|\n",
      "|        1|124928|\n",
      "|        2|124928|\n",
      "|        3|124928|\n",
      "|        4|124928|\n",
      "|        5|124928|\n",
      "|        6|124928|\n",
      "|        7|125504|\n",
      "+---------+------+\n",
      "\n"
     ]
    }
   ],
   "source": [
    "sc.setJobDescription(\"uniform_dataset\")\n",
    "\n",
    "uniform_df.withColumn('partition',spark_partition_id()).groupBy('partition').count().orderBy('partition').show()"
   ]
  },
  {
   "cell_type": "code",
   "execution_count": 70,
   "metadata": {},
   "outputs": [
    {
     "name": "stdout",
     "output_type": "stream",
     "text": [
      "+-----+\n",
      "|value|\n",
      "+-----+\n",
      "|0    |\n",
      "|0    |\n",
      "|0    |\n",
      "|0    |\n",
      "|0    |\n",
      "+-----+\n",
      "only showing top 5 rows\n",
      "\n"
     ]
    },
    {
     "name": "stderr",
     "output_type": "stream",
     "text": [
      "                                                                                \r"
     ]
    }
   ],
   "source": [
    "df0 = spark.createDataFrame([0] * 999990, IntegerType()).repartition(1)\n",
    "df1 = spark.createDataFrame([1] * 15, IntegerType()).repartition(1)\n",
    "df2 = spark.createDataFrame([2] * 10, IntegerType()).repartition(1)\n",
    "df3 = spark.createDataFrame([3] * 5, IntegerType()).repartition(1)\n",
    "df_skew = df0.union(df1).union(df2).union(df3)\n",
    "df_skew.show(5, False)"
   ]
  },
  {
   "cell_type": "code",
   "execution_count": 71,
   "metadata": {},
   "outputs": [
    {
     "name": "stdout",
     "output_type": "stream",
     "text": [
      "+---------+------+\n",
      "|partition| count|\n",
      "+---------+------+\n",
      "|        0|999990|\n",
      "|        1|    15|\n",
      "|        2|    10|\n",
      "|        3|     5|\n",
      "+---------+------+\n",
      "\n"
     ]
    }
   ],
   "source": [
    "sc.setJobDescription(\"skewed_data\")\n",
    "\n",
    "df_skew.withColumn('partition',spark_partition_id()).groupBy('partition').count().orderBy('partition').show()"
   ]
  },
  {
   "cell_type": "code",
   "execution_count": 72,
   "metadata": {},
   "outputs": [],
   "source": [
    "df_joined_c1 = df_skew.join(uniform_df, \"value\", 'inner')"
   ]
  },
  {
   "cell_type": "code",
   "execution_count": 73,
   "metadata": {},
   "outputs": [
    {
     "name": "stderr",
     "output_type": "stream",
     "text": [
      "[Stage 19:>                                                         (0 + 8) / 8]\r"
     ]
    },
    {
     "name": "stdout",
     "output_type": "stream",
     "text": [
      "+---------+-------+\n",
      "|partition|  count|\n",
      "+---------+-------+\n",
      "|        0|1000005|\n",
      "|        1|     15|\n",
      "+---------+-------+\n",
      "\n"
     ]
    },
    {
     "name": "stderr",
     "output_type": "stream",
     "text": [
      "                                                                                \r"
     ]
    }
   ],
   "source": [
    "sc.setJobDescription(\"skewed_join\")\n",
    "\n",
    "df_joined_c1.withColumn('partition',spark_partition_id()).groupBy('partition').count().orderBy('partition').show()"
   ]
  },
  {
   "cell_type": "markdown",
   "metadata": {},
   "source": [
    "### Salting"
   ]
  },
  {
   "cell_type": "code",
   "execution_count": 49,
   "metadata": {},
   "outputs": [
    {
     "data": {
      "text/plain": [
       "3"
      ]
     },
     "execution_count": 49,
     "metadata": {},
     "output_type": "execute_result"
    }
   ],
   "source": [
    "salt_no = int(spark.conf.get(\"spark.sql.shuffle.partitions\"))\n",
    "salt_no"
   ]
  },
  {
   "cell_type": "code",
   "execution_count": 50,
   "metadata": {},
   "outputs": [],
   "source": [
    "df_skew = df_skew.withColumn(\"salt\", (rand() * salt_no).cast(\"int\"))"
   ]
  },
  {
   "cell_type": "code",
   "execution_count": 51,
   "metadata": {},
   "outputs": [
    {
     "name": "stdout",
     "output_type": "stream",
     "text": [
      "+-----+----+\n",
      "|value|salt|\n",
      "+-----+----+\n",
      "|    0|   1|\n",
      "|    0|   1|\n",
      "|    0|   1|\n",
      "|    0|   1|\n",
      "|    0|   0|\n",
      "|    0|   2|\n",
      "|    0|   1|\n",
      "|    0|   1|\n",
      "|    0|   0|\n",
      "|    0|   1|\n",
      "+-----+----+\n",
      "only showing top 10 rows\n",
      "\n"
     ]
    }
   ],
   "source": [
    "df_skew.show(10)"
   ]
  },
  {
   "cell_type": "code",
   "execution_count": 52,
   "metadata": {},
   "outputs": [],
   "source": [
    "uniform_df = uniform_df.withColumn('salt_vals',array([lit(i) for i in range(salt_no)])).withColumn('salt',explode(col('salt_vals')))"
   ]
  },
  {
   "cell_type": "code",
   "execution_count": 53,
   "metadata": {},
   "outputs": [
    {
     "name": "stdout",
     "output_type": "stream",
     "text": [
      "+-----+---------+----+\n",
      "|value|salt_vals|salt|\n",
      "+-----+---------+----+\n",
      "|0    |[0, 1, 2]|0   |\n",
      "|0    |[0, 1, 2]|1   |\n",
      "|0    |[0, 1, 2]|2   |\n",
      "|1    |[0, 1, 2]|0   |\n",
      "|1    |[0, 1, 2]|1   |\n",
      "|1    |[0, 1, 2]|2   |\n",
      "|2    |[0, 1, 2]|0   |\n",
      "|2    |[0, 1, 2]|1   |\n",
      "|2    |[0, 1, 2]|2   |\n",
      "|3    |[0, 1, 2]|0   |\n",
      "+-----+---------+----+\n",
      "only showing top 10 rows\n",
      "\n"
     ]
    }
   ],
   "source": [
    "uniform_df.show(10, truncate=False)"
   ]
  },
  {
   "cell_type": "code",
   "execution_count": 54,
   "metadata": {},
   "outputs": [],
   "source": [
    "df_joined = df_skew.join(uniform_df, [\"value\", \"salt\"], 'inner')"
   ]
  },
  {
   "cell_type": "code",
   "execution_count": null,
   "metadata": {},
   "outputs": [
    {
     "name": "stderr",
     "output_type": "stream",
     "text": [
      "[Stage 33:>                                                         (0 + 8) / 8]\r"
     ]
    },
    {
     "name": "stdout",
     "output_type": "stream",
     "text": [
      "+-----+---------+------+\n",
      "|value|partition| count|\n",
      "+-----+---------+------+\n",
      "|    0|        0|333289|\n",
      "|    0|        1|333404|\n",
      "|    0|        2|333297|\n",
      "|    1|        0|     4|\n",
      "|    1|        1|    11|\n",
      "|    2|        0|     6|\n",
      "|    2|        1|     2|\n",
      "|    2|        2|     2|\n",
      "|    3|        0|     2|\n",
      "|    3|        2|     3|\n",
      "+-----+---------+------+\n",
      "\n"
     ]
    },
    {
     "name": "stderr",
     "output_type": "stream",
     "text": [
      "                                                                                \r"
     ]
    }
   ],
   "source": [
    "sc.setJobDescription(\"salted_join\")\n",
    "\n",
    "df_joined.withColumn('partition',spark_partition_id()).groupBy('value','partition').count().orderBy('value','partition').show()"
   ]
  },
  {
   "cell_type": "code",
   "execution_count": 56,
   "metadata": {},
   "outputs": [
    {
     "name": "stdout",
     "output_type": "stream",
     "text": [
      "+-----+------+\n",
      "|value| count|\n",
      "+-----+------+\n",
      "|    0|999990|\n",
      "|    2|    10|\n",
      "|    3|     5|\n",
      "|    1|    15|\n",
      "+-----+------+\n",
      "\n"
     ]
    }
   ],
   "source": [
    "df_skew.groupBy(\"value\").count().show()"
   ]
  },
  {
   "cell_type": "code",
   "execution_count": 58,
   "metadata": {},
   "outputs": [
    {
     "name": "stdout",
     "output_type": "stream",
     "text": [
      "+-----+------+\n",
      "|value| count|\n",
      "+-----+------+\n",
      "|    0|999990|\n",
      "|    2|    10|\n",
      "|    3|     5|\n",
      "|    1|    15|\n",
      "+-----+------+\n",
      "\n"
     ]
    }
   ],
   "source": [
    "df_skew.withColumn(\"salt\", (rand() * salt_no).cast(\"int\"))\\\n",
    "    .groupBy(\"value\", \"salt\")\\\n",
    "        .agg(count(\"value\").alias(\"count\"))\\\n",
    "            .groupBy(\"value\")\\\n",
    "                .agg(sum(\"count\").alias(\"count\")).show()"
   ]
  },
  {
   "cell_type": "code",
   "execution_count": 65,
   "metadata": {},
   "outputs": [],
   "source": [
    "spark.stop()"
   ]
  },
  {
   "cell_type": "code",
   "execution_count": null,
   "metadata": {},
   "outputs": [],
   "source": []
  }
 ],
 "metadata": {
  "kernelspec": {
   "display_name": "base",
   "language": "python",
   "name": "python3"
  },
  "language_info": {
   "codemirror_mode": {
    "name": "ipython",
    "version": 3
   },
   "file_extension": ".py",
   "mimetype": "text/x-python",
   "name": "python",
   "nbconvert_exporter": "python",
   "pygments_lexer": "ipython3",
   "version": "3.11.4"
  }
 },
 "nbformat": 4,
 "nbformat_minor": 2
}
